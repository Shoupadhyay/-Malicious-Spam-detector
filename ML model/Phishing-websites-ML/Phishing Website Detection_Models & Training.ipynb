{
 "cells": [
  {
   "cell_type": "markdown",
   "id": "ea92cddf-6e8c-463e-8de3-1abbea6a06d1",
   "metadata": {},
   "source": [
    "1. Objective:\n",
    "A phishing website is a common social engineering method that mimics trustful uniform resource locators (URLs) and webpages. The objective of this project is to train machine learning models and deep neural nets on the dataset created to predict phishing websites. Both phishing and benign URLs of websites are gathered to form a dataset and from them required URL and website content-based features are extracted. The performance level of each model is measures and compared.\n",
    "\n",
    "This project is worked on Google Collaboratory.\n",
    "The required packages for this notebook are imported when needed.\n",
    "\n",
    "2. Loading Data:\n",
    "The features are extracted and store in the csv file. The working of this can be seen in the 'Phishing Website Detection_Feature Extraction.ipynb' file.\n",
    "\n",
    "The reulted csv file is uploaded to this notebook and stored in the dataframe."
   ]
  },
  {
   "cell_type": "code",
   "execution_count": 3,
   "id": "c3aa76d3-520a-4de7-80fc-e18a8ca46cd9",
   "metadata": {},
   "outputs": [],
   "source": [
    "#importing basic packages\n",
    "import pandas as pd\n",
    "import numpy as np\n",
    "import seaborn as sns\n",
    "import matplotlib.pyplot as plt"
   ]
  },
  {
   "cell_type": "code",
   "execution_count": 4,
   "id": "60c67a5f-9620-496d-86e6-55c222ee1305",
   "metadata": {},
   "outputs": [
    {
     "data": {
      "text/html": [
       "<div>\n",
       "<style scoped>\n",
       "    .dataframe tbody tr th:only-of-type {\n",
       "        vertical-align: middle;\n",
       "    }\n",
       "\n",
       "    .dataframe tbody tr th {\n",
       "        vertical-align: top;\n",
       "    }\n",
       "\n",
       "    .dataframe thead th {\n",
       "        text-align: right;\n",
       "    }\n",
       "</style>\n",
       "<table border=\"1\" class=\"dataframe\">\n",
       "  <thead>\n",
       "    <tr style=\"text-align: right;\">\n",
       "      <th></th>\n",
       "      <th>Domain</th>\n",
       "      <th>Have_IP</th>\n",
       "      <th>Have_At</th>\n",
       "      <th>URL_Length</th>\n",
       "      <th>URL_Depth</th>\n",
       "      <th>Redirection</th>\n",
       "      <th>https_Domain</th>\n",
       "      <th>TinyURL</th>\n",
       "      <th>Prefix/Suffix</th>\n",
       "      <th>DNS_Record</th>\n",
       "      <th>Web_Traffic</th>\n",
       "      <th>Domain_Age</th>\n",
       "      <th>Domain_End</th>\n",
       "      <th>iFrame</th>\n",
       "      <th>Mouse_Over</th>\n",
       "      <th>Right_Click</th>\n",
       "      <th>Web_Forwards</th>\n",
       "      <th>Label</th>\n",
       "    </tr>\n",
       "  </thead>\n",
       "  <tbody>\n",
       "    <tr>\n",
       "      <th>0</th>\n",
       "      <td>graphicriver.net</td>\n",
       "      <td>0</td>\n",
       "      <td>0</td>\n",
       "      <td>1</td>\n",
       "      <td>1</td>\n",
       "      <td>0</td>\n",
       "      <td>0</td>\n",
       "      <td>0</td>\n",
       "      <td>0</td>\n",
       "      <td>0</td>\n",
       "      <td>1</td>\n",
       "      <td>1</td>\n",
       "      <td>1</td>\n",
       "      <td>0</td>\n",
       "      <td>0</td>\n",
       "      <td>1</td>\n",
       "      <td>0</td>\n",
       "      <td>0</td>\n",
       "    </tr>\n",
       "    <tr>\n",
       "      <th>1</th>\n",
       "      <td>ecnavi.jp</td>\n",
       "      <td>0</td>\n",
       "      <td>0</td>\n",
       "      <td>1</td>\n",
       "      <td>1</td>\n",
       "      <td>1</td>\n",
       "      <td>0</td>\n",
       "      <td>0</td>\n",
       "      <td>0</td>\n",
       "      <td>0</td>\n",
       "      <td>1</td>\n",
       "      <td>1</td>\n",
       "      <td>1</td>\n",
       "      <td>0</td>\n",
       "      <td>0</td>\n",
       "      <td>1</td>\n",
       "      <td>0</td>\n",
       "      <td>0</td>\n",
       "    </tr>\n",
       "    <tr>\n",
       "      <th>2</th>\n",
       "      <td>hubpages.com</td>\n",
       "      <td>0</td>\n",
       "      <td>0</td>\n",
       "      <td>1</td>\n",
       "      <td>1</td>\n",
       "      <td>0</td>\n",
       "      <td>0</td>\n",
       "      <td>0</td>\n",
       "      <td>0</td>\n",
       "      <td>0</td>\n",
       "      <td>1</td>\n",
       "      <td>0</td>\n",
       "      <td>1</td>\n",
       "      <td>0</td>\n",
       "      <td>0</td>\n",
       "      <td>1</td>\n",
       "      <td>0</td>\n",
       "      <td>0</td>\n",
       "    </tr>\n",
       "    <tr>\n",
       "      <th>3</th>\n",
       "      <td>extratorrent.cc</td>\n",
       "      <td>0</td>\n",
       "      <td>0</td>\n",
       "      <td>1</td>\n",
       "      <td>3</td>\n",
       "      <td>0</td>\n",
       "      <td>0</td>\n",
       "      <td>0</td>\n",
       "      <td>0</td>\n",
       "      <td>0</td>\n",
       "      <td>1</td>\n",
       "      <td>0</td>\n",
       "      <td>1</td>\n",
       "      <td>0</td>\n",
       "      <td>0</td>\n",
       "      <td>1</td>\n",
       "      <td>0</td>\n",
       "      <td>0</td>\n",
       "    </tr>\n",
       "    <tr>\n",
       "      <th>4</th>\n",
       "      <td>icicibank.com</td>\n",
       "      <td>0</td>\n",
       "      <td>0</td>\n",
       "      <td>1</td>\n",
       "      <td>3</td>\n",
       "      <td>0</td>\n",
       "      <td>0</td>\n",
       "      <td>0</td>\n",
       "      <td>0</td>\n",
       "      <td>0</td>\n",
       "      <td>1</td>\n",
       "      <td>0</td>\n",
       "      <td>1</td>\n",
       "      <td>0</td>\n",
       "      <td>0</td>\n",
       "      <td>1</td>\n",
       "      <td>0</td>\n",
       "      <td>0</td>\n",
       "    </tr>\n",
       "  </tbody>\n",
       "</table>\n",
       "</div>"
      ],
      "text/plain": [
       "             Domain  Have_IP  Have_At  URL_Length  URL_Depth  Redirection  \\\n",
       "0  graphicriver.net        0        0           1          1            0   \n",
       "1         ecnavi.jp        0        0           1          1            1   \n",
       "2      hubpages.com        0        0           1          1            0   \n",
       "3   extratorrent.cc        0        0           1          3            0   \n",
       "4     icicibank.com        0        0           1          3            0   \n",
       "\n",
       "   https_Domain  TinyURL  Prefix/Suffix  DNS_Record  Web_Traffic  Domain_Age  \\\n",
       "0             0        0              0           0            1           1   \n",
       "1             0        0              0           0            1           1   \n",
       "2             0        0              0           0            1           0   \n",
       "3             0        0              0           0            1           0   \n",
       "4             0        0              0           0            1           0   \n",
       "\n",
       "   Domain_End  iFrame  Mouse_Over  Right_Click  Web_Forwards  Label  \n",
       "0           1       0           0            1             0      0  \n",
       "1           1       0           0            1             0      0  \n",
       "2           1       0           0            1             0      0  \n",
       "3           1       0           0            1             0      0  \n",
       "4           1       0           0            1             0      0  "
      ]
     },
     "execution_count": 4,
     "metadata": {},
     "output_type": "execute_result"
    }
   ],
   "source": [
    "#Loading the data\n",
    "data0 = pd.read_csv('5.urldata.csv')\n",
    "data0.head()"
   ]
  },
  {
   "cell_type": "markdown",
   "id": "c0e50b6e-5d8c-43a8-8252-7c27c83a1b6b",
   "metadata": {},
   "source": [
    "3. Familiarizing with Data\n",
    "In this step, few dataframe methods are used to look into the data and its features."
   ]
  },
  {
   "cell_type": "code",
   "execution_count": 5,
   "id": "9962c1e1-5d90-4f27-9b9c-816a2cd08fec",
   "metadata": {},
   "outputs": [
    {
     "data": {
      "text/plain": [
       "(10000, 18)"
      ]
     },
     "execution_count": 5,
     "metadata": {},
     "output_type": "execute_result"
    }
   ],
   "source": [
    "#Checking the shape of the dataset\n",
    "data0.shape"
   ]
  },
  {
   "cell_type": "code",
   "execution_count": 6,
   "id": "15e97f13-5ee3-4c96-b21f-747e13025141",
   "metadata": {},
   "outputs": [
    {
     "data": {
      "text/plain": [
       "Index(['Domain', 'Have_IP', 'Have_At', 'URL_Length', 'URL_Depth',\n",
       "       'Redirection', 'https_Domain', 'TinyURL', 'Prefix/Suffix', 'DNS_Record',\n",
       "       'Web_Traffic', 'Domain_Age', 'Domain_End', 'iFrame', 'Mouse_Over',\n",
       "       'Right_Click', 'Web_Forwards', 'Label'],\n",
       "      dtype='object')"
      ]
     },
     "execution_count": 6,
     "metadata": {},
     "output_type": "execute_result"
    }
   ],
   "source": [
    "#Listing the features of the dataset\n",
    "data0.columns"
   ]
  },
  {
   "cell_type": "code",
   "execution_count": 7,
   "id": "6defa6cf-ad42-4e29-871c-a521ad23da95",
   "metadata": {},
   "outputs": [
    {
     "name": "stdout",
     "output_type": "stream",
     "text": [
      "<class 'pandas.core.frame.DataFrame'>\n",
      "RangeIndex: 10000 entries, 0 to 9999\n",
      "Data columns (total 18 columns):\n",
      " #   Column         Non-Null Count  Dtype \n",
      "---  ------         --------------  ----- \n",
      " 0   Domain         10000 non-null  object\n",
      " 1   Have_IP        10000 non-null  int64 \n",
      " 2   Have_At        10000 non-null  int64 \n",
      " 3   URL_Length     10000 non-null  int64 \n",
      " 4   URL_Depth      10000 non-null  int64 \n",
      " 5   Redirection    10000 non-null  int64 \n",
      " 6   https_Domain   10000 non-null  int64 \n",
      " 7   TinyURL        10000 non-null  int64 \n",
      " 8   Prefix/Suffix  10000 non-null  int64 \n",
      " 9   DNS_Record     10000 non-null  int64 \n",
      " 10  Web_Traffic    10000 non-null  int64 \n",
      " 11  Domain_Age     10000 non-null  int64 \n",
      " 12  Domain_End     10000 non-null  int64 \n",
      " 13  iFrame         10000 non-null  int64 \n",
      " 14  Mouse_Over     10000 non-null  int64 \n",
      " 15  Right_Click    10000 non-null  int64 \n",
      " 16  Web_Forwards   10000 non-null  int64 \n",
      " 17  Label          10000 non-null  int64 \n",
      "dtypes: int64(17), object(1)\n",
      "memory usage: 1.4+ MB\n"
     ]
    }
   ],
   "source": [
    "\n",
    "#Information about the dataset\n",
    "data0.info()"
   ]
  },
  {
   "cell_type": "markdown",
   "id": "13bd4ae4-1fa5-4911-84a6-559ba5d6483b",
   "metadata": {},
   "source": [
    "4. Visualizing the data\n",
    "Few plots and graphs are displayed to find how the data is distributed and the how features are related to each other."
   ]
  },
  {
   "cell_type": "code",
   "execution_count": 8,
   "id": "951bae6d-a234-4a61-bf65-909af79a5110",
   "metadata": {},
   "outputs": [
    {
     "data": {
      "image/png": "[encoded data removed]",
      "text/plain": [
       "<Figure size 1080x1080 with 20 Axes>"
      ]
     },
     "metadata": {
      "needs_background": "light"
     },
     "output_type": "display_data"
    }
   ],
   "source": [
    "#Plotting the data distribution\n",
    "data0.hist(bins = 50,figsize = (15,15))\n",
    "plt.show()"
   ]
  },
  {
   "cell_type": "code",
   "execution_count": 9,
   "id": "4fa7ecbf-b98f-4357-aa0f-4eab405332af",
   "metadata": {},
   "outputs": [
    {
     "data": {
      "image/png": "[encoded data removed]",
      "text/plain": [
       "<Figure size 1080x936 with 2 Axes>"
      ]
     },
     "metadata": {
      "needs_background": "light"
     },
     "output_type": "display_data"
    }
   ],
   "source": [
    "\n",
    "#Correlation heatmap\n",
    "\n",
    "plt.figure(figsize=(15,13))\n",
    "sns.heatmap(data0.corr())\n",
    "plt.show()"
   ]
  },
  {
   "cell_type": "markdown",
   "id": "29c08ad3-77e0-498b-856e-5e3e5bed7926",
   "metadata": {},
   "source": [
    "5. Data Preprocessing & EDA\n",
    "Here, we clean the data by applying data preprocesssing techniques and transform the data to use it in the models."
   ]
  },
  {
   "cell_type": "code",
   "execution_count": 10,
   "id": "f4162c4a-f8f6-4952-abea-1026471e174e",
   "metadata": {},
   "outputs": [
    {
     "data": {
      "text/html": [
       "<div>\n",
       "<style scoped>\n",
       "    .dataframe tbody tr th:only-of-type {\n",
       "        vertical-align: middle;\n",
       "    }\n",
       "\n",
       "    .dataframe tbody tr th {\n",
       "        vertical-align: top;\n",
       "    }\n",
       "\n",
       "    .dataframe thead th {\n",
       "        text-align: right;\n",
       "    }\n",
       "</style>\n",
       "<table border=\"1\" class=\"dataframe\">\n",
       "  <thead>\n",
       "    <tr style=\"text-align: right;\">\n",
       "      <th></th>\n",
       "      <th>Have_IP</th>\n",
       "      <th>Have_At</th>\n",
       "      <th>URL_Length</th>\n",
       "      <th>URL_Depth</th>\n",
       "      <th>Redirection</th>\n",
       "      <th>https_Domain</th>\n",
       "      <th>TinyURL</th>\n",
       "      <th>Prefix/Suffix</th>\n",
       "      <th>DNS_Record</th>\n",
       "      <th>Web_Traffic</th>\n",
       "      <th>Domain_Age</th>\n",
       "      <th>Domain_End</th>\n",
       "      <th>iFrame</th>\n",
       "      <th>Mouse_Over</th>\n",
       "      <th>Right_Click</th>\n",
       "      <th>Web_Forwards</th>\n",
       "      <th>Label</th>\n",
       "    </tr>\n",
       "  </thead>\n",
       "  <tbody>\n",
       "    <tr>\n",
       "      <th>count</th>\n",
       "      <td>10000.000000</td>\n",
       "      <td>10000.000000</td>\n",
       "      <td>10000.000000</td>\n",
       "      <td>10000.000000</td>\n",
       "      <td>10000.000000</td>\n",
       "      <td>10000.000000</td>\n",
       "      <td>10000.000000</td>\n",
       "      <td>10000.000000</td>\n",
       "      <td>10000.000000</td>\n",
       "      <td>10000.000000</td>\n",
       "      <td>10000.000000</td>\n",
       "      <td>10000.0000</td>\n",
       "      <td>10000.000000</td>\n",
       "      <td>10000.00000</td>\n",
       "      <td>10000.00000</td>\n",
       "      <td>10000.000000</td>\n",
       "      <td>10000.000000</td>\n",
       "    </tr>\n",
       "    <tr>\n",
       "      <th>mean</th>\n",
       "      <td>0.005500</td>\n",
       "      <td>0.022600</td>\n",
       "      <td>0.773400</td>\n",
       "      <td>3.072000</td>\n",
       "      <td>0.013500</td>\n",
       "      <td>0.000200</td>\n",
       "      <td>0.090300</td>\n",
       "      <td>0.093200</td>\n",
       "      <td>0.100800</td>\n",
       "      <td>0.845700</td>\n",
       "      <td>0.413700</td>\n",
       "      <td>0.8099</td>\n",
       "      <td>0.090900</td>\n",
       "      <td>0.06660</td>\n",
       "      <td>0.99930</td>\n",
       "      <td>0.105300</td>\n",
       "      <td>0.500000</td>\n",
       "    </tr>\n",
       "    <tr>\n",
       "      <th>std</th>\n",
       "      <td>0.073961</td>\n",
       "      <td>0.148632</td>\n",
       "      <td>0.418653</td>\n",
       "      <td>2.128631</td>\n",
       "      <td>0.115408</td>\n",
       "      <td>0.014141</td>\n",
       "      <td>0.286625</td>\n",
       "      <td>0.290727</td>\n",
       "      <td>0.301079</td>\n",
       "      <td>0.361254</td>\n",
       "      <td>0.492521</td>\n",
       "      <td>0.3924</td>\n",
       "      <td>0.287481</td>\n",
       "      <td>0.24934</td>\n",
       "      <td>0.02645</td>\n",
       "      <td>0.306955</td>\n",
       "      <td>0.500025</td>\n",
       "    </tr>\n",
       "    <tr>\n",
       "      <th>min</th>\n",
       "      <td>0.000000</td>\n",
       "      <td>0.000000</td>\n",
       "      <td>0.000000</td>\n",
       "      <td>0.000000</td>\n",
       "      <td>0.000000</td>\n",
       "      <td>0.000000</td>\n",
       "      <td>0.000000</td>\n",
       "      <td>0.000000</td>\n",
       "      <td>0.000000</td>\n",
       "      <td>0.000000</td>\n",
       "      <td>0.000000</td>\n",
       "      <td>0.0000</td>\n",
       "      <td>0.000000</td>\n",
       "      <td>0.00000</td>\n",
       "      <td>0.00000</td>\n",
       "      <td>0.000000</td>\n",
       "      <td>0.000000</td>\n",
       "    </tr>\n",
       "    <tr>\n",
       "      <th>25%</th>\n",
       "      <td>0.000000</td>\n",
       "      <td>0.000000</td>\n",
       "      <td>1.000000</td>\n",
       "      <td>2.000000</td>\n",
       "      <td>0.000000</td>\n",
       "      <td>0.000000</td>\n",
       "      <td>0.000000</td>\n",
       "      <td>0.000000</td>\n",
       "      <td>0.000000</td>\n",
       "      <td>1.000000</td>\n",
       "      <td>0.000000</td>\n",
       "      <td>1.0000</td>\n",
       "      <td>0.000000</td>\n",
       "      <td>0.00000</td>\n",
       "      <td>1.00000</td>\n",
       "      <td>0.000000</td>\n",
       "      <td>0.000000</td>\n",
       "    </tr>\n",
       "    <tr>\n",
       "      <th>50%</th>\n",
       "      <td>0.000000</td>\n",
       "      <td>0.000000</td>\n",
       "      <td>1.000000</td>\n",
       "      <td>3.000000</td>\n",
       "      <td>0.000000</td>\n",
       "      <td>0.000000</td>\n",
       "      <td>0.000000</td>\n",
       "      <td>0.000000</td>\n",
       "      <td>0.000000</td>\n",
       "      <td>1.000000</td>\n",
       "      <td>0.000000</td>\n",
       "      <td>1.0000</td>\n",
       "      <td>0.000000</td>\n",
       "      <td>0.00000</td>\n",
       "      <td>1.00000</td>\n",
       "      <td>0.000000</td>\n",
       "      <td>0.500000</td>\n",
       "    </tr>\n",
       "    <tr>\n",
       "      <th>75%</th>\n",
       "      <td>0.000000</td>\n",
       "      <td>0.000000</td>\n",
       "      <td>1.000000</td>\n",
       "      <td>4.000000</td>\n",
       "      <td>0.000000</td>\n",
       "      <td>0.000000</td>\n",
       "      <td>0.000000</td>\n",
       "      <td>0.000000</td>\n",
       "      <td>0.000000</td>\n",
       "      <td>1.000000</td>\n",
       "      <td>1.000000</td>\n",
       "      <td>1.0000</td>\n",
       "      <td>0.000000</td>\n",
       "      <td>0.00000</td>\n",
       "      <td>1.00000</td>\n",
       "      <td>0.000000</td>\n",
       "      <td>1.000000</td>\n",
       "    </tr>\n",
       "    <tr>\n",
       "      <th>max</th>\n",
       "      <td>1.000000</td>\n",
       "      <td>1.000000</td>\n",
       "      <td>1.000000</td>\n",
       "      <td>20.000000</td>\n",
       "      <td>1.000000</td>\n",
       "      <td>1.000000</td>\n",
       "      <td>1.000000</td>\n",
       "      <td>1.000000</td>\n",
       "      <td>1.000000</td>\n",
       "      <td>1.000000</td>\n",
       "      <td>1.000000</td>\n",
       "      <td>1.0000</td>\n",
       "      <td>1.000000</td>\n",
       "      <td>1.00000</td>\n",
       "      <td>1.00000</td>\n",
       "      <td>1.000000</td>\n",
       "      <td>1.000000</td>\n",
       "    </tr>\n",
       "  </tbody>\n",
       "</table>\n",
       "</div>"
      ],
      "text/plain": [
       "            Have_IP       Have_At    URL_Length     URL_Depth   Redirection  \\\n",
       "count  10000.000000  10000.000000  10000.000000  10000.000000  10000.000000   \n",
       "mean       0.005500      0.022600      0.773400      3.072000      0.013500   \n",
       "std        0.073961      0.148632      0.418653      2.128631      0.115408   \n",
       "min        0.000000      0.000000      0.000000      0.000000      0.000000   \n",
       "25%        0.000000      0.000000      1.000000      2.000000      0.000000   \n",
       "50%        0.000000      0.000000      1.000000      3.000000      0.000000   \n",
       "75%        0.000000      0.000000      1.000000      4.000000      0.000000   \n",
       "max        1.000000      1.000000      1.000000     20.000000      1.000000   \n",
       "\n",
       "       https_Domain       TinyURL  Prefix/Suffix    DNS_Record   Web_Traffic  \\\n",
       "count  10000.000000  10000.000000   10000.000000  10000.000000  10000.000000   \n",
       "mean       0.000200      0.090300       0.093200      0.100800      0.845700   \n",
       "std        0.014141      0.286625       0.290727      0.301079      0.361254   \n",
       "min        0.000000      0.000000       0.000000      0.000000      0.000000   \n",
       "25%        0.000000      0.000000       0.000000      0.000000      1.000000   \n",
       "50%        0.000000      0.000000       0.000000      0.000000      1.000000   \n",
       "75%        0.000000      0.000000       0.000000      0.000000      1.000000   \n",
       "max        1.000000      1.000000       1.000000      1.000000      1.000000   \n",
       "\n",
       "         Domain_Age  Domain_End        iFrame   Mouse_Over  Right_Click  \\\n",
       "count  10000.000000  10000.0000  10000.000000  10000.00000  10000.00000   \n",
       "mean       0.413700      0.8099      0.090900      0.06660      0.99930   \n",
       "std        0.492521      0.3924      0.287481      0.24934      0.02645   \n",
       "min        0.000000      0.0000      0.000000      0.00000      0.00000   \n",
       "25%        0.000000      1.0000      0.000000      0.00000      1.00000   \n",
       "50%        0.000000      1.0000      0.000000      0.00000      1.00000   \n",
       "75%        1.000000      1.0000      0.000000      0.00000      1.00000   \n",
       "max        1.000000      1.0000      1.000000      1.00000      1.00000   \n",
       "\n",
       "       Web_Forwards         Label  \n",
       "count  10000.000000  10000.000000  \n",
       "mean       0.105300      0.500000  \n",
       "std        0.306955      0.500025  \n",
       "min        0.000000      0.000000  \n",
       "25%        0.000000      0.000000  \n",
       "50%        0.000000      0.500000  \n",
       "75%        0.000000      1.000000  \n",
       "max        1.000000      1.000000  "
      ]
     },
     "execution_count": 10,
     "metadata": {},
     "output_type": "execute_result"
    }
   ],
   "source": [
    "data0.describe()"
   ]
  },
  {
   "cell_type": "code",
   "execution_count": 11,
   "id": "1ee6e0ff-aea3-47bc-bc65-6c7910bcb721",
   "metadata": {},
   "outputs": [],
   "source": [
    "#Dropping the Domain column\n",
    "data = data0.drop(['Domain'], axis = 1).copy()"
   ]
  },
  {
   "cell_type": "code",
   "execution_count": 12,
   "id": "a6a8ae81-86cd-4da7-aca9-d8b3b03e4df0",
   "metadata": {},
   "outputs": [
    {
     "data": {
      "text/plain": [
       "Have_IP          0\n",
       "Have_At          0\n",
       "URL_Length       0\n",
       "URL_Depth        0\n",
       "Redirection      0\n",
       "https_Domain     0\n",
       "TinyURL          0\n",
       "Prefix/Suffix    0\n",
       "DNS_Record       0\n",
       "Web_Traffic      0\n",
       "Domain_Age       0\n",
       "Domain_End       0\n",
       "iFrame           0\n",
       "Mouse_Over       0\n",
       "Right_Click      0\n",
       "Web_Forwards     0\n",
       "Label            0\n",
       "dtype: int64"
      ]
     },
     "execution_count": 12,
     "metadata": {},
     "output_type": "execute_result"
    }
   ],
   "source": [
    "#checking the data for null or missing values\n",
    "data.isnull().sum()"
   ]
  },
  {
   "cell_type": "code",
   "execution_count": 13,
   "id": "bf52139b-fca5-4adb-939a-512b3a9139a3",
   "metadata": {},
   "outputs": [
    {
     "data": {
      "text/html": [
       "<div>\n",
       "<style scoped>\n",
       "    .dataframe tbody tr th:only-of-type {\n",
       "        vertical-align: middle;\n",
       "    }\n",
       "\n",
       "    .dataframe tbody tr th {\n",
       "        vertical-align: top;\n",
       "    }\n",
       "\n",
       "    .dataframe thead th {\n",
       "        text-align: right;\n",
       "    }\n",
       "</style>\n",
       "<table border=\"1\" class=\"dataframe\">\n",
       "  <thead>\n",
       "    <tr style=\"text-align: right;\">\n",
       "      <th></th>\n",
       "      <th>Have_IP</th>\n",
       "      <th>Have_At</th>\n",
       "      <th>URL_Length</th>\n",
       "      <th>URL_Depth</th>\n",
       "      <th>Redirection</th>\n",
       "      <th>https_Domain</th>\n",
       "      <th>TinyURL</th>\n",
       "      <th>Prefix/Suffix</th>\n",
       "      <th>DNS_Record</th>\n",
       "      <th>Web_Traffic</th>\n",
       "      <th>Domain_Age</th>\n",
       "      <th>Domain_End</th>\n",
       "      <th>iFrame</th>\n",
       "      <th>Mouse_Over</th>\n",
       "      <th>Right_Click</th>\n",
       "      <th>Web_Forwards</th>\n",
       "      <th>Label</th>\n",
       "    </tr>\n",
       "  </thead>\n",
       "  <tbody>\n",
       "    <tr>\n",
       "      <th>0</th>\n",
       "      <td>0</td>\n",
       "      <td>0</td>\n",
       "      <td>1</td>\n",
       "      <td>3</td>\n",
       "      <td>0</td>\n",
       "      <td>0</td>\n",
       "      <td>0</td>\n",
       "      <td>0</td>\n",
       "      <td>0</td>\n",
       "      <td>0</td>\n",
       "      <td>1</td>\n",
       "      <td>1</td>\n",
       "      <td>0</td>\n",
       "      <td>0</td>\n",
       "      <td>1</td>\n",
       "      <td>0</td>\n",
       "      <td>0</td>\n",
       "    </tr>\n",
       "    <tr>\n",
       "      <th>1</th>\n",
       "      <td>0</td>\n",
       "      <td>0</td>\n",
       "      <td>1</td>\n",
       "      <td>4</td>\n",
       "      <td>0</td>\n",
       "      <td>0</td>\n",
       "      <td>0</td>\n",
       "      <td>0</td>\n",
       "      <td>1</td>\n",
       "      <td>1</td>\n",
       "      <td>1</td>\n",
       "      <td>1</td>\n",
       "      <td>0</td>\n",
       "      <td>0</td>\n",
       "      <td>1</td>\n",
       "      <td>0</td>\n",
       "      <td>0</td>\n",
       "    </tr>\n",
       "    <tr>\n",
       "      <th>2</th>\n",
       "      <td>0</td>\n",
       "      <td>0</td>\n",
       "      <td>0</td>\n",
       "      <td>2</td>\n",
       "      <td>0</td>\n",
       "      <td>0</td>\n",
       "      <td>0</td>\n",
       "      <td>0</td>\n",
       "      <td>0</td>\n",
       "      <td>1</td>\n",
       "      <td>0</td>\n",
       "      <td>1</td>\n",
       "      <td>0</td>\n",
       "      <td>0</td>\n",
       "      <td>1</td>\n",
       "      <td>0</td>\n",
       "      <td>1</td>\n",
       "    </tr>\n",
       "    <tr>\n",
       "      <th>3</th>\n",
       "      <td>0</td>\n",
       "      <td>0</td>\n",
       "      <td>0</td>\n",
       "      <td>0</td>\n",
       "      <td>0</td>\n",
       "      <td>0</td>\n",
       "      <td>0</td>\n",
       "      <td>0</td>\n",
       "      <td>0</td>\n",
       "      <td>0</td>\n",
       "      <td>0</td>\n",
       "      <td>1</td>\n",
       "      <td>0</td>\n",
       "      <td>0</td>\n",
       "      <td>1</td>\n",
       "      <td>0</td>\n",
       "      <td>1</td>\n",
       "    </tr>\n",
       "    <tr>\n",
       "      <th>4</th>\n",
       "      <td>0</td>\n",
       "      <td>0</td>\n",
       "      <td>1</td>\n",
       "      <td>3</td>\n",
       "      <td>0</td>\n",
       "      <td>0</td>\n",
       "      <td>0</td>\n",
       "      <td>1</td>\n",
       "      <td>0</td>\n",
       "      <td>1</td>\n",
       "      <td>0</td>\n",
       "      <td>1</td>\n",
       "      <td>0</td>\n",
       "      <td>0</td>\n",
       "      <td>1</td>\n",
       "      <td>0</td>\n",
       "      <td>1</td>\n",
       "    </tr>\n",
       "  </tbody>\n",
       "</table>\n",
       "</div>"
      ],
      "text/plain": [
       "   Have_IP  Have_At  URL_Length  URL_Depth  Redirection  https_Domain  \\\n",
       "0        0        0           1          3            0             0   \n",
       "1        0        0           1          4            0             0   \n",
       "2        0        0           0          2            0             0   \n",
       "3        0        0           0          0            0             0   \n",
       "4        0        0           1          3            0             0   \n",
       "\n",
       "   TinyURL  Prefix/Suffix  DNS_Record  Web_Traffic  Domain_Age  Domain_End  \\\n",
       "0        0              0           0            0           1           1   \n",
       "1        0              0           1            1           1           1   \n",
       "2        0              0           0            1           0           1   \n",
       "3        0              0           0            0           0           1   \n",
       "4        0              1           0            1           0           1   \n",
       "\n",
       "   iFrame  Mouse_Over  Right_Click  Web_Forwards  Label  \n",
       "0       0           0            1             0      0  \n",
       "1       0           0            1             0      0  \n",
       "2       0           0            1             0      1  \n",
       "3       0           0            1             0      1  \n",
       "4       0           0            1             0      1  "
      ]
     },
     "execution_count": 13,
     "metadata": {},
     "output_type": "execute_result"
    }
   ],
   "source": [
    "# shuffling the rows in the dataset so that when splitting the train and test set are equally distributed\n",
    "data = data.sample(frac=1).reset_index(drop=True)\n",
    "data.head()"
   ]
  },
  {
   "cell_type": "markdown",
   "id": "590fb617-cd8e-44b4-baec-e206cf6522bc",
   "metadata": {},
   "source": [
    "6. Splitting the Data"
   ]
  },
  {
   "cell_type": "code",
   "execution_count": 14,
   "id": "1efba079-cddd-47b6-b9eb-6677667ff4db",
   "metadata": {},
   "outputs": [
    {
     "data": {
      "text/plain": [
       "((10000, 16), (10000,))"
      ]
     },
     "execution_count": 14,
     "metadata": {},
     "output_type": "execute_result"
    }
   ],
   "source": [
    "\n",
    "# Sepratating & assigning features and target columns to X & y\n",
    "y = data['Label']\n",
    "X = data.drop('Label',axis=1)\n",
    "X.shape, y.shape"
   ]
  },
  {
   "cell_type": "code",
   "execution_count": 15,
   "id": "09d9659d-2f91-4faf-a297-cf91b17d510e",
   "metadata": {},
   "outputs": [
    {
     "data": {
      "text/plain": [
       "((8000, 16), (2000, 16))"
      ]
     },
     "execution_count": 15,
     "metadata": {},
     "output_type": "execute_result"
    }
   ],
   "source": [
    "\n",
    "# Splitting the dataset into train and test sets: 80-20 split\n",
    "from sklearn.model_selection import train_test_split\n",
    "\n",
    "X_train, X_test, y_train, y_test = train_test_split(X, y, \n",
    "                                                    test_size = 0.2, random_state = 12)\n",
    "X_train.shape, X_test.shape"
   ]
  },
  {
   "cell_type": "markdown",
   "id": "b1168282-bb4f-43f6-88ad-e1ce4defd64f",
   "metadata": {},
   "source": [
    "7. Machine Learning Models & Training\n",
    "From the dataset above, it is clear that this is a supervised machine learning task. There are two major types of supervised machine learning problems, called classification and regression.\n",
    "\n",
    "This data set comes under classification problem, as the input URL is classified as phishing (1) or legitimate (0). The supervised machine learning models (classification) considered to train the dataset in this notebook are:\n",
    "\n",
    "Decision Tree\n",
    "Random Forest\n",
    "Multilayer Perceptrons\n",
    "XGBoost\n",
    "Autoencoder Neural Network\n",
    "Support Vector Machines"
   ]
  },
  {
   "cell_type": "code",
   "execution_count": 16,
   "id": "96498cf4-1983-40ba-9271-730eafad5123",
   "metadata": {},
   "outputs": [],
   "source": [
    "#importing packages\n",
    "from sklearn.metrics import accuracy_score"
   ]
  },
  {
   "cell_type": "code",
   "execution_count": 17,
   "id": "e83ea3ef-6cf6-45f5-b630-f77693f051cf",
   "metadata": {},
   "outputs": [],
   "source": [
    "# Creating holders to store the model performance results\n",
    "ML_Model = []\n",
    "acc_train = []\n",
    "acc_test = []\n",
    "\n",
    "#function to call for storing the results\n",
    "def storeResults(model, a,b):\n",
    "  ML_Model.append(model)\n",
    "  acc_train.append(round(a, 3))\n",
    "  acc_test.append(round(b, 3))"
   ]
  },
  {
   "cell_type": "markdown",
   "id": "eecf5e83-1912-4423-b88b-375d5c649721",
   "metadata": {},
   "source": [
    "7.1. Decision Tree Classifier\n",
    "Decision trees are widely used models for classification and regression tasks. Essentially, they learn a hierarchy of if/else questions, leading to a decision. Learning a decision tree means learning the sequence of if/else questions that gets us to the true answer most quickly.\n",
    "\n",
    "In the machine learning setting, these questions are called tests (not to be confused with the test set, which is the data we use to test to see how generalizable our model is). To build a tree, the algorithm searches over all possible tests and finds the one that is most informative about the target variable."
   ]
  },
  {
   "cell_type": "code",
   "execution_count": 18,
   "id": "ea8987fa-6247-408f-8213-36172c36a775",
   "metadata": {},
   "outputs": [
    {
     "data": {
      "text/plain": [
       "DecisionTreeClassifier(max_depth=5)"
      ]
     },
     "execution_count": 18,
     "metadata": {},
     "output_type": "execute_result"
    }
   ],
   "source": [
    "# Decision Tree model \n",
    "from sklearn.tree import DecisionTreeClassifier\n",
    "\n",
    "# instantiate the model \n",
    "tree = DecisionTreeClassifier(max_depth = 5)\n",
    "# fit the model \n",
    "tree.fit(X_train, y_train)"
   ]
  },
  {
   "cell_type": "code",
   "execution_count": 19,
   "id": "b246b325-2c67-42d0-ae09-58ac499fdf5d",
   "metadata": {},
   "outputs": [],
   "source": [
    "\n",
    "#predicting the target value from the model for the samples\n",
    "y_test_tree = tree.predict(X_test)\n",
    "y_train_tree = tree.predict(X_train)\n",
    "     "
   ]
  },
  {
   "cell_type": "code",
   "execution_count": 21,
   "id": "6aeb97c7-87b7-4a63-8526-e582ab4bce95",
   "metadata": {},
   "outputs": [
    {
     "name": "stdout",
     "output_type": "stream",
     "text": [
      "Decision Tree: Accuracy on training Data: 0.812\n",
      "Decision Tree: Accuracy on test Data: 0.819\n"
     ]
    }
   ],
   "source": [
    "#computing the accuracy of the model performance\n",
    "acc_train_tree = accuracy_score(y_train,y_train_tree)\n",
    "acc_test_tree = accuracy_score(y_test,y_test_tree)\n",
    "\n",
    "print(\"Decision Tree: Accuracy on training Data: {:.3f}\".format(acc_train_tree))\n",
    "print(\"Decision Tree: Accuracy on test Data: {:.3f}\".format(acc_test_tree))"
   ]
  },
  {
   "cell_type": "code",
   "execution_count": 22,
   "id": "6c1d096f-0f0e-4a57-8846-b8dd3260ace3",
   "metadata": {},
   "outputs": [
    {
     "data": {
      "image/png": "[encoded data removed]",
      "text/plain": [
       "<Figure size 648x504 with 1 Axes>"
      ]
     },
     "metadata": {
      "needs_background": "light"
     },
     "output_type": "display_data"
    }
   ],
   "source": [
    "#checking the feature improtance in the model\n",
    "plt.figure(figsize=(9,7))\n",
    "n_features = X_train.shape[1]\n",
    "plt.barh(range(n_features), tree.feature_importances_, align='center')\n",
    "plt.yticks(np.arange(n_features), X_train.columns)\n",
    "plt.xlabel(\"Feature importance\")\n",
    "plt.ylabel(\"Feature\")\n",
    "plt.show()\n"
   ]
  },
  {
   "cell_type": "code",
   "execution_count": 23,
   "id": "f9902177-6be5-4263-8d60-92e09e511a67",
   "metadata": {},
   "outputs": [],
   "source": [
    "\n",
    "#storing the results. The below mentioned order of parameter passing is important.\n",
    "#Caution: Execute only once to avoid duplications.\n",
    "storeResults('Decision Tree', acc_train_tree, acc_test_tree)"
   ]
  },
  {
   "cell_type": "markdown",
   "id": "7dc5c9ab-b174-4ba5-a716-4f53b6c21fae",
   "metadata": {},
   "source": [
    "7.2. Random Forest Classifier\n",
    "Random forests for regression and classification are currently among the most widely used machine learning methods.A random forest is essentially a collection of decision trees, where each tree is slightly different from the others. The idea behind random forests is that each tree might do a relatively good job of predicting, but will likely overfit on part of the data.\n",
    "\n",
    "If we build many trees, all of which work well and overfit in different ways, we can reduce the amount of overfitting by averaging their results. To build a random forest model, you need to decide on the number of trees to build (the n_estimators parameter of RandomForestRegressor or RandomForestClassifier). They are very powerful, often work well without heavy tuning of the parameters, and don’t require scaling of the data."
   ]
  },
  {
   "cell_type": "code",
   "execution_count": 24,
   "id": "e39105dc-458a-4217-80f6-0212c8a686b4",
   "metadata": {},
   "outputs": [
    {
     "data": {
      "text/plain": [
       "RandomForestClassifier(max_depth=5)"
      ]
     },
     "execution_count": 24,
     "metadata": {},
     "output_type": "execute_result"
    }
   ],
   "source": [
    "# Random Forest model\n",
    "from sklearn.ensemble import RandomForestClassifier\n",
    "\n",
    "# instantiate the model\n",
    "forest = RandomForestClassifier(max_depth=5)\n",
    "\n",
    "# fit the model \n",
    "forest.fit(X_train, y_train)"
   ]
  },
  {
   "cell_type": "code",
   "execution_count": 25,
   "id": "551e1ce7-8323-4a4d-95c3-801452ebb99c",
   "metadata": {},
   "outputs": [],
   "source": [
    "#predicting the target value from the model for the samples\n",
    "y_test_forest = forest.predict(X_test)\n",
    "y_train_forest = forest.predict(X_train)"
   ]
  },
  {
   "cell_type": "code",
   "execution_count": 26,
   "id": "b926a5cb-d140-46b9-9cfc-015d65a1595f",
   "metadata": {},
   "outputs": [
    {
     "name": "stdout",
     "output_type": "stream",
     "text": [
      "Random forest: Accuracy on training Data: 0.814\n",
      "Random forest: Accuracy on test Data: 0.818\n"
     ]
    }
   ],
   "source": [
    "\n",
    "#computing the accuracy of the model performance\n",
    "acc_train_forest = accuracy_score(y_train,y_train_forest)\n",
    "acc_test_forest = accuracy_score(y_test,y_test_forest)\n",
    "\n",
    "print(\"Random forest: Accuracy on training Data: {:.3f}\".format(acc_train_forest))\n",
    "print(\"Random forest: Accuracy on test Data: {:.3f}\".format(acc_test_forest))"
   ]
  },
  {
   "cell_type": "code",
   "execution_count": 27,
   "id": "bb402939-2b3f-4b20-9ff9-56e65bc07bea",
   "metadata": {},
   "outputs": [
    {
     "data": {
      "image/png": "[encoded data removed]",
      "text/plain": [
       "<Figure size 648x504 with 1 Axes>"
      ]
     },
     "metadata": {
      "needs_background": "light"
     },
     "output_type": "display_data"
    }
   ],
   "source": [
    "#checking the feature improtance in the model\n",
    "plt.figure(figsize=(9,7))\n",
    "n_features = X_train.shape[1]\n",
    "plt.barh(range(n_features), forest.feature_importances_, align='center')\n",
    "plt.yticks(np.arange(n_features), X_train.columns)\n",
    "plt.xlabel(\"Feature importance\")\n",
    "plt.ylabel(\"Feature\")\n",
    "plt.show()"
   ]
  },
  {
   "cell_type": "code",
   "execution_count": 28,
   "id": "13cee037-3045-4cd7-aa8a-95325bf287df",
   "metadata": {},
   "outputs": [],
   "source": [
    "#storing the results. The below mentioned order of parameter passing is important.\n",
    "#Caution: Execute only once to avoid duplications.\n",
    "storeResults('Random Forest', acc_train_forest, acc_test_forest)"
   ]
  },
  {
   "cell_type": "markdown",
   "id": "73f619ef-01b4-498f-99a0-54fc722ce35b",
   "metadata": {},
   "source": [
    "7.3. Multilayer Perceptrons (MLPs): Deep Learning\n",
    "Multilayer perceptrons (MLPs) are also known as (vanilla) feed-forward neural networks, or sometimes just neural networks. Multilayer perceptrons can be applied for both classification and regression problems.\n",
    "\n",
    "MLPs can be viewed as generalizations of linear models that perform multiple stages of processing to come to a decision."
   ]
  },
  {
   "cell_type": "code",
   "execution_count": 29,
   "id": "d7860a7a-8635-4d4c-9b55-a8239ac3eb8a",
   "metadata": {},
   "outputs": [
    {
     "data": {
      "text/plain": [
       "MLPClassifier(alpha=0.001, hidden_layer_sizes=[100, 100, 100])"
      ]
     },
     "execution_count": 29,
     "metadata": {},
     "output_type": "execute_result"
    }
   ],
   "source": [
    "# Multilayer Perceptrons model\n",
    "from sklearn.neural_network import MLPClassifier\n",
    "\n",
    "# instantiate the model\n",
    "mlp = MLPClassifier(alpha=0.001, hidden_layer_sizes=([100,100,100]))\n",
    "\n",
    "# fit the model \n",
    "mlp.fit(X_train, y_train)\n",
    "     "
   ]
  },
  {
   "cell_type": "code",
   "execution_count": 30,
   "id": "d6fd9eb9-ba8e-490c-bb67-58e4c4e1c1ca",
   "metadata": {},
   "outputs": [],
   "source": [
    "\n",
    "#predicting the target value from the model for the samples\n",
    "y_test_mlp = mlp.predict(X_test)\n",
    "y_train_mlp = mlp.predict(X_train)"
   ]
  },
  {
   "cell_type": "code",
   "execution_count": 31,
   "id": "195f2f54-d528-421a-8e98-6104dde7d18e",
   "metadata": {},
   "outputs": [
    {
     "name": "stdout",
     "output_type": "stream",
     "text": [
      "Multilayer Perceptrons: Accuracy on training Data: 0.863\n",
      "Multilayer Perceptrons: Accuracy on test Data: 0.859\n"
     ]
    }
   ],
   "source": [
    "#computing the accuracy of the model performance\n",
    "acc_train_mlp = accuracy_score(y_train,y_train_mlp)\n",
    "acc_test_mlp = accuracy_score(y_test,y_test_mlp)\n",
    "\n",
    "print(\"Multilayer Perceptrons: Accuracy on training Data: {:.3f}\".format(acc_train_mlp))\n",
    "print(\"Multilayer Perceptrons: Accuracy on test Data: {:.3f}\".format(acc_test_mlp))"
   ]
  },
  {
   "cell_type": "markdown",
   "id": "1e118a12-d81a-4c89-ba2b-e47aa023b584",
   "metadata": {},
   "source": [
    "Storing the results"
   ]
  },
  {
   "cell_type": "code",
   "execution_count": 32,
   "id": "487c9d43-8763-432a-a50a-3950835095c1",
   "metadata": {},
   "outputs": [],
   "source": [
    "#storing the results. The below mentioned order of parameter passing is important.\n",
    "#Caution: Execute only once to avoid duplications.\n",
    "storeResults('Multilayer Perceptrons', acc_train_mlp, acc_test_mlp)"
   ]
  },
  {
   "cell_type": "markdown",
   "id": "80696ebd-72a3-495f-88ff-97cde4f8b162",
   "metadata": {},
   "source": [
    "7.4. XGBoost Classifier\n",
    "XGBoost is one of the most popular machine learning algorithms these days. XGBoost stands for eXtreme Gradient Boosting. Regardless of the type of prediction task at hand; regression or classification. XGBoost is an implementation of gradient boosted decision trees designed for speed and performance."
   ]
  },
  {
   "cell_type": "code",
   "execution_count": 33,
   "id": "a8679d75-f7cb-4dd3-b176-f9ce501a698a",
   "metadata": {},
   "outputs": [
    {
     "ename": "ModuleNotFoundError",
     "evalue": "No module named 'xgboost'",
     "output_type": "error",
     "traceback": [
      "\u001b[0;31m---------------------------------------------------------------------------\u001b[0m",
      "\u001b[0;31mModuleNotFoundError\u001b[0m                       Traceback (most recent call last)",
      "Input \u001b[0;32mIn [33]\u001b[0m, in \u001b[0;36m<cell line: 2>\u001b[0;34m()\u001b[0m\n\u001b[1;32m      1\u001b[0m \u001b[38;5;66;03m#XGBoost Classification model\u001b[39;00m\n\u001b[0;32m----> 2\u001b[0m \u001b[38;5;28;01mfrom\u001b[39;00m \u001b[38;5;21;01mxgboost\u001b[39;00m \u001b[38;5;28;01mimport\u001b[39;00m XGBClassifier\n\u001b[1;32m      4\u001b[0m \u001b[38;5;66;03m# instantiate the model\u001b[39;00m\n\u001b[1;32m      5\u001b[0m xgb \u001b[38;5;241m=\u001b[39m XGBClassifier(learning_rate\u001b[38;5;241m=\u001b[39m\u001b[38;5;241m0.4\u001b[39m,max_depth\u001b[38;5;241m=\u001b[39m\u001b[38;5;241m7\u001b[39m)\n",
      "\u001b[0;31mModuleNotFoundError\u001b[0m: No module named 'xgboost'"
     ]
    }
   ],
   "source": [
    "#XGBoost Classification model\n",
    "from xgboost import XGBClassifier\n",
    "\n",
    "# instantiate the model\n",
    "xgb = XGBClassifier(learning_rate=0.4,max_depth=7)\n",
    "#fit the model\n",
    "xgb.fit(X_train, y_train)\n",
    "     "
   ]
  },
  {
   "cell_type": "code",
   "execution_count": null,
   "id": "203eae4a-435e-4ebe-8331-96bf42a0c965",
   "metadata": {},
   "outputs": [],
   "source": [
    "\n",
    "#predicting the target value from the model for the samples\n",
    "y_test_xgb = xgb.predict(X_test)\n",
    "y_train_xgb = xgb.predict(X_train)"
   ]
  },
  {
   "cell_type": "code",
   "execution_count": null,
   "id": "a7d0144c-a657-4052-bfa9-928328294f95",
   "metadata": {},
   "outputs": [],
   "source": [
    "#computing the accuracy of the model performance\n",
    "acc_train_xgb = accuracy_score(y_train,y_train_xgb)\n",
    "acc_test_xgb = accuracy_score(y_test,y_test_xgb)\n",
    "\n",
    "print(\"XGBoost: Accuracy on training Data: {:.3f}\".format(acc_train_xgb))\n",
    "print(\"XGBoost : Accuracy on test Data: {:.3f}\".format(acc_test_xgb))"
   ]
  },
  {
   "cell_type": "code",
   "execution_count": null,
   "id": "187c1a01-0cee-42ff-a504-95ed7ed9e07c",
   "metadata": {},
   "outputs": [],
   "source": [
    "#storing the results. The below mentioned order of parameter passing is important.\n",
    "#Caution: Execute only once to avoid duplications.\n",
    "storeResults('XGBoost', acc_train_xgb, acc_test_xgb)"
   ]
  },
  {
   "cell_type": "markdown",
   "id": "3aa463d6-e62d-4653-a50c-657db57a7066",
   "metadata": {},
   "source": [
    "7.5. Autoencoder Neural Network\n",
    "An auto encoder is a neural network that has the same number of input neurons as it does outputs. The hidden layers of the neural network will have fewer neurons than the input/output neurons. Because there are fewer neurons, the auto-encoder must learn to encode the input to the fewer hidden neurons. The predictors (x) and output (y) are exactly the same in an auto encoder."
   ]
  },
  {
   "cell_type": "code",
   "execution_count": null,
   "id": "4e9fdae6-7bf3-42fa-8c11-a89e733e409b",
   "metadata": {},
   "outputs": [],
   "source": [
    "#importing required packages\n",
    "import keras\n",
    "from keras.layers import Input, Dense\n",
    "from keras import regularizers\n",
    "import tensorflow as tf\n",
    "from keras.models import Model\n",
    "from sklearn import metrics"
   ]
  },
  {
   "cell_type": "code",
   "execution_count": null,
   "id": "222f28ad-d289-4c1e-ad96-3bb09e49da42",
   "metadata": {},
   "outputs": [],
   "source": [
    "#building autoencoder model\n",
    "\n",
    "input_dim = X_train.shape[1]\n",
    "encoding_dim = input_dim\n",
    "\n",
    "input_layer = Input(shape=(input_dim, ))\n",
    "encoder = Dense(encoding_dim, activation=\"relu\",\n",
    "                activity_regularizer=regularizers.l1(10e-4))(input_layer)\n",
    "encoder = Dense(int(encoding_dim), activation=\"relu\")(encoder)\n",
    "\n",
    "encoder = Dense(int(encoding_dim-2), activation=\"relu\")(encoder)\n",
    "code = Dense(int(encoding_dim-4), activation='relu')(encoder)\n",
    "decoder = Dense(int(encoding_dim-2), activation='relu')(code)\n",
    "\n",
    "decoder = Dense(int(encoding_dim), activation='relu')(encoder)\n",
    "decoder = Dense(input_dim, activation='relu')(decoder)\n",
    "autoencoder = Model(inputs=input_layer, outputs=decoder)\n",
    "autoencoder.summary()"
   ]
  },
  {
   "cell_type": "code",
   "execution_count": null,
   "id": "6cce9fff-9eef-4e39-9a79-9059b66cfd05",
   "metadata": {},
   "outputs": [],
   "source": [
    "#compiling the model\n",
    "autoencoder.compile(optimizer='adam',\n",
    "                    loss='binary_crossentropy',\n",
    "                    metrics=['accuracy'])\n",
    "\n",
    "#Training the model\n",
    "history = autoencoder.fit(X_train, X_train, epochs=10, batch_size=64, shuffle=True, validation_split=0.2) \n",
    "     "
   ]
  },
  {
   "cell_type": "code",
   "execution_count": null,
   "id": "8788bd46-bb24-4b05-9605-663d900a3013",
   "metadata": {},
   "outputs": [],
   "source": [
    "acc_train_auto = autoencoder.evaluate(X_train, X_train)[1]\n",
    "acc_test_auto = autoencoder.evaluate(X_test, X_test)[1]\n",
    "\n",
    "print('\\nAutoencoder: Accuracy on training Data: {:.3f}' .format(acc_train_auto))\n",
    "print('Autoencoder: Accuracy on test Data: {:.3f}' .format(acc_test_auto))"
   ]
  },
  {
   "cell_type": "code",
   "execution_count": null,
   "id": "c66b3ed2-9b5d-445c-a9e6-8071072d7431",
   "metadata": {},
   "outputs": [],
   "source": [
    "#storing the results. The below mentioned order of parameter passing is important.\n",
    "#Caution: Execute only once to avoid duplications.\n",
    "storeResults('AutoEncoder', acc_train_auto, acc_test_auto)"
   ]
  },
  {
   "cell_type": "markdown",
   "id": "4d6174d5-166b-4a0d-9a7d-c37dbf5b02e0",
   "metadata": {},
   "source": [
    "7.6. Support Vector Machines\n",
    "In machine learning, support-vector machines (SVMs, also support-vector networks) are supervised learning models with associated learning algorithms that analyze data used for classification and regression analysis. Given a set of training examples, each marked as belonging to one or the other of two categories, an SVM training algorithm builds a model that assigns new examples to one category or the other, making it a non-probabilistic binary linear classifier."
   ]
  },
  {
   "cell_type": "code",
   "execution_count": null,
   "id": "56cd9621-f1d9-429c-a698-2224c8750259",
   "metadata": {},
   "outputs": [],
   "source": [
    "\n",
    "#Support vector machine model\n",
    "from sklearn.svm import SVC\n",
    "\n",
    "# instantiate the model\n",
    "svm = SVC(kernel='linear', C=1.0, random_state=12)\n",
    "#fit the model\n",
    "svm.fit(X_train, y_train)"
   ]
  },
  {
   "cell_type": "code",
   "execution_count": null,
   "id": "2db12eb3-3084-46d0-b6b9-dcdc97f92cfe",
   "metadata": {},
   "outputs": [],
   "source": [
    "#predicting the target value from the model for the samples\n",
    "y_test_svm = svm.predict(X_test)\n",
    "y_train_svm = svm.predict(X_train)"
   ]
  },
  {
   "cell_type": "code",
   "execution_count": null,
   "id": "c9372d1f-0e94-4256-b5e8-8abe7d7bef36",
   "metadata": {},
   "outputs": [],
   "source": [
    "#computing the accuracy of the model performance\n",
    "acc_train_svm = accuracy_score(y_train,y_train_svm)\n",
    "acc_test_svm = accuracy_score(y_test,y_test_svm)\n",
    "\n",
    "print(\"SVM: Accuracy on training Data: {:.3f}\".format(acc_train_svm))\n",
    "print(\"SVM : Accuracy on test Data: {:.3f}\".format(acc_test_svm))"
   ]
  },
  {
   "cell_type": "code",
   "execution_count": null,
   "id": "5edf54d6-8bec-4c46-a7f6-08d2ee0a6f7a",
   "metadata": {},
   "outputs": [],
   "source": [
    "#storing the results. The below mentioned order of parameter passing is important.\n",
    "#Caution: Execute only once to avoid duplications.\n",
    "storeResults('SVM', acc_train_svm, acc_test_svm)"
   ]
  },
  {
   "cell_type": "markdown",
   "id": "4aef000c-9271-4e5d-992b-5331836c5f42",
   "metadata": {},
   "source": [
    "8. Comparision of Models\n",
    "To compare the models performance, a dataframe is created. The columns of this dataframe are the lists created to store the results of the model."
   ]
  },
  {
   "cell_type": "code",
   "execution_count": null,
   "id": "274a9242-22da-46a6-a79c-6d2013207fa6",
   "metadata": {},
   "outputs": [],
   "source": [
    "#creating dataframe\n",
    "results = pd.DataFrame({ 'ML Model': ML_Model,    \n",
    "    'Train Accuracy': acc_train,\n",
    "    'Test Accuracy': acc_test})\n",
    "results"
   ]
  },
  {
   "cell_type": "code",
   "execution_count": null,
   "id": "bcb48c36-86ed-4366-82be-22ba2ea6cb0a",
   "metadata": {},
   "outputs": [],
   "source": [
    "#Sorting the datafram on accuracy\n",
    "results.sort_values(by=['Test Accuracy', 'Train Accuracy'], ascending=False)"
   ]
  },
  {
   "cell_type": "code",
   "execution_count": null,
   "id": "966c1a71-a282-428c-988d-92b554ae528c",
   "metadata": {},
   "outputs": [],
   "source": [
    "# save XGBoost model to file\n",
    "import pickle\n",
    "pickle.dump(xgb, open(\"XGBoostClassifier.pickle.dat\", \"wb\"))"
   ]
  },
  {
   "cell_type": "code",
   "execution_count": null,
   "id": "1d2bdfe5-f79f-4219-9313-d158c2a7584f",
   "metadata": {},
   "outputs": [],
   "source": [
    "# load model from file\n",
    "loaded_model = pickle.load(open(\"XGBoostClassifier.pickle.dat\", \"rb\"))\n",
    "loaded_model"
   ]
  },
  {
   "cell_type": "markdown",
   "id": "cd5c1f9f-cd35-4ecb-974d-78358460b2bf",
   "metadata": {},
   "source": [
    "9. References\n",
    "https://blog.keras.io/building-autoencoders-in-keras.html\n",
    "https://en.wikipedia.org/wiki/Autoencoder\n",
    "https://mc.ai/a-beginners-guide-to-build-stacked-autoencoder-and-tying-weights-with-it/\n",
    "https://machinelearningmastery.com/save-gradient-boosting-models-xgboost-python/"
   ]
  },
  {
   "cell_type": "code",
   "execution_count": null,
   "id": "af813287-1cc2-43db-b2bf-c2ef4ec6eb68",
   "metadata": {},
   "outputs": [],
   "source": []
  }
 ],
 "metadata": {
  "kernelspec": {
   "display_name": "anaconda-2022.05-py39",
   "language": "python",
   "name": "conda-env-anaconda-2022.05-py39-py"
  },
  "language_info": {
   "codemirror_mode": {
    "name": "ipython",
    "version": 3
   },
   "file_extension": ".py",
   "mimetype": "text/x-python",
   "name": "python",
   "nbconvert_exporter": "python",
   "pygments_lexer": "ipython3",
   "version": "3.9.12"
  }
 },
 "nbformat": 4,
 "nbformat_minor": 5
}
